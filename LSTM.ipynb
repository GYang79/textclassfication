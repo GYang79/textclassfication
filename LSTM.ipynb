{
 "cells": [
  {
   "cell_type": "markdown",
   "metadata": {},
   "source": [
    "## Packages and constant declaration"
   ]
  },
  {
   "cell_type": "code",
   "execution_count": 1,
   "metadata": {},
   "outputs": [],
   "source": [
    "import torch"
   ]
  },
  {
   "cell_type": "code",
   "execution_count": 1,
   "metadata": {},
   "outputs": [],
   "source": [
    "import time"
   ]
  },
  {
   "cell_type": "code",
   "execution_count": 2,
   "metadata": {},
   "outputs": [
    {
     "name": "stderr",
     "output_type": "stream",
     "text": [
      "Using TensorFlow backend.\n"
     ]
    }
   ],
   "source": [
    "import numpy as np  #linear algebra\n",
    "import pandas as pd #Only CSV IO\n",
    "import os\n",
    "import re\n",
    "from torch.utils import data #dataloader of batch\n",
    "import torch\n",
    "import torch.nn as nn\n",
    "from sklearn.model_selection import train_test_split\n",
    "from sklearn.model_selection import StratifiedKFold\n",
    "from sklearn import metrics\n",
    "from keras.preprocessing.text import Tokenizer\n",
    "from keras.preprocessing.sequence import pad_sequences\n",
    "from torch.autograd import Variable #We can ask require grad or not\n",
    "from torch.optim.optimizer import Optimizer\n",
    "from torch.optim import lr_scheduler\n",
    "import torch.nn.functional as F\n",
    "from torchvision import transforms"
   ]
  },
  {
   "cell_type": "code",
   "execution_count": null,
   "metadata": {},
   "outputs": [],
   "source": []
  },
  {
   "cell_type": "code",
   "execution_count": 3,
   "metadata": {},
   "outputs": [],
   "source": [
    "import matplotlib.pyplot as plt"
   ]
  },
  {
   "cell_type": "code",
   "execution_count": 4,
   "metadata": {},
   "outputs": [],
   "source": [
    "device = torch.device(\"cuda\" if torch.cuda.is_available() else \"cpu\")"
   ]
  },
  {
   "cell_type": "code",
   "execution_count": 5,
   "metadata": {},
   "outputs": [],
   "source": [
    "from sklearn.preprocessing import StandardScaler # Simplify the preprocess\n",
    "from multiprocessing import pool #multiprocessing, creating a pool parallel\n",
    "from functools import partial \n",
    "#freeze some arguments of a function to be a new function\n",
    "from sklearn.decomposition import PCA\n"
   ]
  },
  {
   "cell_type": "code",
   "execution_count": 49,
   "metadata": {},
   "outputs": [],
   "source": [
    "os.environ['CUDA_LAUNCH_BLOCKING'] = \"1\" # easy to locate traceback\n",
    "embedding_size = 300 # embedding vector length\n",
    "max_word = 200000 # How many unique words to use \n",
    "max_q = 35 # max number of words in a question\n",
    "maxq=35\n",
    "batch_size = 4096#Batch size\n",
    "n_epochs = 20 # epochs\n",
    "latent = 400 # The dim of the latent variable"
   ]
  },
  {
   "cell_type": "code",
   "execution_count": 7,
   "metadata": {},
   "outputs": [],
   "source": [
    "def seed(seed=1000):# Give random seed to everything\n",
    "    os.environ['PYTHONHASHSEED'] = str(seed)\n",
    "    np.random.seed(seed)\n",
    "    torch.manual_seed(seed)\n",
    "    torch.cuda.manual_seed(seed)\n",
    "    torch.backends.cudnn.deterministic = True\n",
    "seed()"
   ]
  },
  {
   "cell_type": "markdown",
   "metadata": {},
   "source": [
    "## Data preprocessing"
   ]
  },
  {
   "cell_type": "code",
   "execution_count": 10,
   "metadata": {},
   "outputs": [],
   "source": [
    "puncts = [',', '.', '\"', ':', ')', '(', '-', '!', '?', '|', ';', \"'\", '$', '&', '/', '[', ']', '>', '%', '=', '#', '*', '+', '\\\\', '•',  '~', '@', '£', \n",
    " '·', '_', '{', '}', '©', '^', '®', '`',  '<', '→', '°', '€', '™', '›',  '♥', '←', '×', '§', '″', '′', 'Â', '█', '½', 'à', '…', \n",
    " '“', '★', '”', '–', '●', 'â', '►', '−', '¢', '²', '¬', '░', '¶', '↑', '±', '¿', '▾', '═', '¦', '║', '―', '¥', '▓', '—', '‹', '─', \n",
    " '▒', '：', '¼', '⊕', '▼', '▪', '†', '■', '’', '▀', '¨', '▄', '♫', '☆', 'é', '¯', '♦', '¤', '▲', 'è', '¸', '¾', 'Ã', '⋅', '‘', '∞', \n",
    " '∙', '）', '↓', '、', '│', '（', '»', '，', '♪', '╩', '╚', '³', '・', '╦', '╣', '╔', '╗', '▬', '❤', 'ï', 'Ø', '¹', '≤', '‡', '√', ]\n",
    "\n",
    "def clean(x): #process the punction\n",
    "    x=str(x)\n",
    "    for punct in puncts:\n",
    "        if punct in x:\n",
    "            x=x.replace(punct,f'{punct}')\n",
    "    return x\n",
    "\n",
    "def clean_numbers(x): # Replace the number with #, make all numbers the same\n",
    "    if bool(re.search(r'\\d',x)):\n",
    "        x=re.sub('[0-9]{5,}','#####',x)\n",
    "        x=re.sub('[0-9]{4}','####',x)\n",
    "        x=re.sub('[0-9]{3}','###',x)\n",
    "        x=re.sub('[0-9]{2}','##',x)\n",
    "    return x\n",
    "\n",
    "# The common abbreviation for some phrase\n",
    "fullversiondict={\"ain't\": \"is not\", \"aren't\": \"are not\",\"can't\": \"cannot\",\n",
    "                 \"'cause\": \"because\", \"could've\": \"could have\", \"couldn't\": \"could not\", \"didn't\": \"did not\",  \n",
    "                 \"doesn't\": \"does not\", \"don't\": \"do not\", \"hadn't\": \"had not\", \"hasn't\": \"has not\", \"haven't\": \"have not\",\n",
    "                 \"he'd\": \"he would\",\"he'll\": \"he will\", \"he's\": \"he is\", \"how'd\": \"how did\", \"how'd'y\": \"how do you\",\n",
    "                 \"how'll\": \"how will\",\"how's\": \"how is\",  \"I'd\": \"I would\", \"I'd've\": \"I would have\", \"I'll\": \"I will\", \"I'll've\": \"I will have\",\"I'm\": \"I am\",\n",
    "                 \"I've\": \"I have\", \"i'd\": \"i would\", \"i'd've\": \"i would have\", \"i'll\": \"i will\",  \"i'll've\": \"i will have\",\"i'm\": \"i am\", \n",
    "                 \"i've\": \"i have\", \"isn't\": \"is not\", \"it'd\": \"it would\", \"it'd've\": \"it would have\", \"it'll\": \"it will\", \"it'll've\": \"it will have\",\n",
    "                 \"it's\": \"it is\", \"let's\": \"let us\", \"ma'am\": \"madam\", \"mayn't\": \"may not\", \"might've\": \"might have\",\"mightn't\": \"might not\",\"mightn't've\": \"might not have\", \n",
    "                 \"must've\": \"must have\", \"mustn't\": \"must not\", \"mustn't've\": \"must not have\", \"needn't\": \"need not\", \"needn't've\": \"need not have\",\"o'clock\": \"of the clock\", \n",
    "                 \"oughtn't\": \"ought not\", \"oughtn't've\": \"ought not have\", \"shan't\": \"shall not\", \"sha'n't\": \"shall not\", \"shan't've\": \"shall not have\", \"she'd\": \"she would\", \n",
    "                 \"she'd've\": \"she would have\", \"she'll\": \"she will\", \"she'll've\": \"she will have\", \"she's\": \"she is\", \"should've\": \"should have\", \"shouldn't\": \"should not\",\"shouldn't've\": \"should not have\", \n",
    "                 \"so've\": \"so have\",\"so's\": \"so as\", \"this's\": \"this is\",\"that'd\": \"that would\", \"that'd've\": \"that would have\", \"that's\": \"that is\", \"there'd\": \"there would\", \"there'd've\": \"there would have\",\n",
    "                 \"there's\": \"there is\", \"here's\": \"here is\",\"they'd\": \"they would\", \"they'd've\": \"they would have\", \"they'll\": \"they will\", \"they'll've\": \"they will have\", \"they're\": \"they are\", \"they've\": \"they have\", \n",
    "                 \"to've\": \"to have\", \"wasn't\": \"was not\", \"we'd\": \"we would\", \"we'd've\": \"we would have\", \"we'll\": \"we will\", \"we'll've\": \"we will have\", \"we're\": \"we are\", \"we've\": \"we have\", \"weren't\": \"were not\", \"what'll\": \"what will\",\n",
    "                 \"what'll've\": \"what will have\", \"what're\": \"what are\",  \"what's\": \"what is\", \"what've\": \"what have\", \"when's\": \"when is\", \"when've\": \"when have\", \"where'd\": \"where did\", \"where's\": \"where is\", \"where've\": \"where have\", \"who'll\": \"who will\", \n",
    "                 \"who'll've\": \"who will have\", \"who's\": \"who is\", \"who've\": \"who have\", \"why's\": \"why is\", \"why've\": \"why have\", \"will've\": \"will have\", \"won't\": \"will not\", \"won't've\": \"will not have\", \"would've\": \"would have\", \"wouldn't\": \"would not\",\n",
    "                 \"wouldn't've\": \"would not have\", \"y'all\": \"you all\", \"y'all'd\": \"you all would\",\"y'all'd've\": \"you all would have\",\"y'all're\": \"you all are\",\"y'all've\": \"you all have\",\"you'd\": \"you would\", \"you'd've\": \"you would have\", \"you'll\": \"you will\", \"you'll've\": \"you will have\", \n",
    "                 \"you're\": \"you are\", \"you've\": \"you have\", 'colour': 'color', 'centre': 'center', 'favourite': 'favorite', 'travelling': 'traveling', 'counselling': 'counseling', 'theatre': 'theater', 'cancelled': 'canceled', 'labour': 'labor', 'organisation': 'organization', \n",
    "                 'wwii': 'world war 2', 'citicise': 'criticize', 'youtu ': 'youtube ', 'Qoura': 'Quora', 'sallary': 'salary', 'Whta': 'What', 'narcisist': 'narcissist', 'howdo': 'how do', 'whatare': 'what are', 'howcan': 'how can', 'howmuch': 'how much', 'howmany': 'how many', 'whydo': 'why do',\n",
    "                 'doI': 'do I', 'theBest': 'the best', 'howdoes': 'how does', 'mastrubation': 'masturbation', 'mastrubate': 'masturbate', \"mastrubating\": 'masturbating', 'pennis': 'penis', 'Etherium': 'Ethereum', 'narcissit': 'narcissist', 'bigdata': 'big data', '2k17': '2017', '2k18': '2018',\n",
    "                 'qouta': 'quota','exboyfriend': 'ex boyfriend', 'airhostess': 'air hostess', \"whst\": 'what', 'watsapp': 'whatsapp', 'demonitisation': 'demonetization', 'demonitization': 'demonetization', 'demonetisation': 'demonetization'}\n",
    "def _get_full(fullversiondict):\n",
    "    full_re = re.compile('(%s)'%'|'.join(fullversiondict.keys()))\n",
    "    return fullversiondict , full_re # To make things we want to replace single string\n",
    "\n",
    "fullversiondict,full_re=_get_full(fullversiondict)\n",
    "def replacetext(text):\n",
    "    def replace(match): \n",
    "        return fullversiondict[match.group(0)]\n",
    "    return full_re.sub(replace,text) # The full.re here is match, can replace any string now\n"
   ]
  },
  {
   "cell_type": "code",
   "execution_count": 11,
   "metadata": {},
   "outputs": [],
   "source": [
    "def read_pre():\n",
    "    train_df = pd.read_csv('train.csv')\n",
    "    test_df = pd.read_csv('test.csv')\n",
    "    print('Train shape:',train_df.shape)\n",
    "    print('Test shape:',test_df.shape)\n",
    "    # Lower case\n",
    "    train_df['question_text'] = train_df['question_text'].apply(lambda x: x.lower())\n",
    "    test_df['question_text'] = test_df['question_text'].apply(lambda x: x.lower())\n",
    "    # Clean punction\n",
    "    train_df[\"question_text\"] = train_df[\"question_text\"].apply(lambda x: clean(x))\n",
    "    test_df[\"question_text\"] = test_df[\"question_text\"].apply(lambda x: clean(x))\n",
    "    #clean numbers\n",
    "    train_df[\"question_text\"] = train_df[\"question_text\"].apply(lambda x: clean_numbers(x))\n",
    "    test_df[\"question_text\"] = test_df[\"question_text\"].apply(lambda x: clean_numbers(x))\n",
    "    #replace abbreviation\n",
    "    train_df[\"question_text\"] = train_df[\"question_text\"].apply(lambda x: replacetext(x))\n",
    "    test_df[\"question_text\"] = test_df[\"question_text\"].apply(lambda x: replacetext(x))\n",
    "    ## fill up the missing values using next valid value\n",
    "    train_X = train_df[\"question_text\"].fillna(method=\"bfill\").values\n",
    "    test_X = test_df[\"question_text\"].fillna(method=\"bfill\").values\n",
    "    \n",
    "    ####################\n",
    "    #Tokenize the sentences\n",
    "    tokenizer = Tokenizer(num_words = max_word)\n",
    "    tokenizer.fit_on_texts(list(train_X)) # only use words in training set\n",
    "    train_X =B tokenizer.texts_to_sequences(train_X)\n",
    "    test_X = tokenizer.texts_to_sequences(test_X)\n",
    "    word_index = tokenizer.word_index\n",
    "    nb_words = min(max_word, len(word_index))\n",
    "        \n",
    "    #Pad the sentences, to make equal length of sentences\n",
    "    train_X = pad_sequences(train_X, maxlen=maxq)\n",
    "    test_X = pad_sequences(test_X, maxlen=maxq)\n",
    "     \n",
    "    #Similar to one-hot encoding   \n",
    "    #train_X=np.delete(train_X,[np.where(np.sum(train_X,axis=1)==0)])\n",
    "    #test_X=np.delete(test_X,[np.where(np.sum(test_X,axis=1)==0)])\n",
    "    \n",
    "    #Target\n",
    "    train_y = train_df['target'].values\n",
    "    return train_X, test_X, train_y, word_index\n",
    "    "
   ]
  },
  {
   "cell_type": "code",
   "execution_count": 12,
   "metadata": {},
   "outputs": [],
   "source": [
    "class SpatialDropout(nn.Dropout2d):\n",
    "    def forward(self, x):\n",
    "        x = x.unsqueeze(2)    # (N, T, 1, K)\n",
    "        x = x.permute(0, 3, 2, 1)  # (N, K, 1, T)\n",
    "        x = super(SpatialDropout, self).forward(x)  # (N, K, 1, T), some features are masked\n",
    "        x = x.permute(0, 3, 2, 1)  # (N, T, 1, K)\n",
    "        x = x.squeeze(2)  # (N, T, K)\n",
    "        return x\n",
    "#Data augmentation"
   ]
  },
  {
   "cell_type": "code",
   "execution_count": 13,
   "metadata": {},
   "outputs": [],
   "source": [
    "# the pretrained embedding model\n",
    "def load_glove(word_index):\n",
    "    FILE= 'embeddings/glove.840B.300d//glove.840B.300d.txt'\n",
    "    def get_coefs(word,*arr):return word, np.asarray(arr, dtype='float32')[:embedding_size]\n",
    "    embeddings_index = dict(get_coefs(*o.split(' '))for o in open(FILE) if len(o)>300)\n",
    "    #construct word array pair dictionary\n",
    "    all_embs = np.stack(embeddings_index.values())\n",
    "    emb_mean,emb_std = all_embs.mean(), all_embs.std()\n",
    "    nb_words = min(max_word, len(word_index))\n",
    "    #Initialize a matrix using random value, in case that some words don't exist in our embedding\n",
    "    embedding_matrix = np.random.normal(emb_mean, emb_std, (nb_words+1,embedding_size))\n",
    "    #Associate the word in our training set with the embedding model\n",
    "    for word, i in word_index.items():\n",
    "        if i>= max_word: continue\n",
    "        embedding_vector = embeddings_index.get(word) # get the vector for this word form dictionary\n",
    "        if embedding_vector is not None: embedding_matrix[i] = embedding_vector\n",
    "    return (embedding_matrix)\n",
    "##Do same thing to other types of embedding\n",
    "\n"
   ]
  },
  {
   "cell_type": "code",
   "execution_count": 14,
   "metadata": {},
   "outputs": [
    {
     "name": "stdout",
     "output_type": "stream",
     "text": [
      "Train shape: (1306122, 3)\n",
      "Test shape: (375806, 2)\n"
     ]
    },
    {
     "name": "stderr",
     "output_type": "stream",
     "text": [
      "/home/gmyang97/miniconda3/lib/python3.7/site-packages/ipykernel_launcher.py:7: FutureWarning: arrays to stack must be passed as a \"sequence\" type such as list or tuple. Support for non-sequence iterables such as generators is deprecated as of NumPy 1.16 and will raise an error in the future.\n",
      "  import sys\n"
     ]
    }
   ],
   "source": [
    "train_X, test_X, train_y,  word_index = read_pre()\n",
    "embedding_matrix_1 = load_glove(word_index)"
   ]
  },
  {
   "cell_type": "code",
   "execution_count": 32,
   "metadata": {},
   "outputs": [
    {
     "data": {
      "text/plain": [
       "array([[   0,    0,    0, ...,    6,    1,   93],\n",
       "       [   0,    0,    0, ...,  417,  613, 2319],\n",
       "       [   0,    0,    0, ...,   47, 1263, 2080],\n",
       "       ...,\n",
       "       [   0,    0,    0, ..., 8179,   11, 3190],\n",
       "       [ 120,  175,   60, ...,   60,   30, 4979],\n",
       "       [   0,    0,    0, ...,   83,   30,  114]], dtype=int32)"
      ]
     },
     "execution_count": 32,
     "metadata": {},
     "output_type": "execute_result"
    }
   ],
   "source": [
    "train_X[train_y==1,:]"
   ]
  },
  {
   "cell_type": "code",
   "execution_count": 2,
   "metadata": {
    "scrolled": true
   },
   "outputs": [
    {
     "ename": "NameError",
     "evalue": "name 'train_X' is not defined",
     "output_type": "error",
     "traceback": [
      "\u001b[0;31m---------------------------------------------------------------------------\u001b[0m",
      "\u001b[0;31mNameError\u001b[0m                                 Traceback (most recent call last)",
      "\u001b[0;32m<ipython-input-2-ba67d6dbfa75>\u001b[0m in \u001b[0;36m<module>\u001b[0;34m()\u001b[0m\n\u001b[0;32m----> 1\u001b[0;31m \u001b[0mtrain_XX\u001b[0m \u001b[0;34m=\u001b[0m \u001b[0mtrain_X\u001b[0m\u001b[0;34m\u001b[0m\u001b[0m\n\u001b[0m\u001b[1;32m      2\u001b[0m \u001b[0mtrain_yy\u001b[0m \u001b[0;34m=\u001b[0m \u001b[0mtrain_y\u001b[0m\u001b[0;34m\u001b[0m\u001b[0m\n\u001b[1;32m      3\u001b[0m \u001b[0;32mfor\u001b[0m \u001b[0mi\u001b[0m \u001b[0;32min\u001b[0m \u001b[0mrange\u001b[0m\u001b[0;34m(\u001b[0m\u001b[0;36m11\u001b[0m\u001b[0;34m)\u001b[0m\u001b[0;34m:\u001b[0m\u001b[0;34m\u001b[0m\u001b[0m\n\u001b[1;32m      4\u001b[0m     \u001b[0mtrain_XX\u001b[0m \u001b[0;34m=\u001b[0m \u001b[0mnp\u001b[0m\u001b[0;34m.\u001b[0m\u001b[0mconcatenate\u001b[0m\u001b[0;34m(\u001b[0m\u001b[0;34m(\u001b[0m\u001b[0mtrain_XX\u001b[0m\u001b[0;34m,\u001b[0m\u001b[0mtrain_X\u001b[0m\u001b[0;34m[\u001b[0m\u001b[0mtrain_y\u001b[0m\u001b[0;34m==\u001b[0m\u001b[0;36m1\u001b[0m\u001b[0;34m,\u001b[0m\u001b[0;34m:\u001b[0m\u001b[0;34m]\u001b[0m\u001b[0;34m)\u001b[0m\u001b[0;34m)\u001b[0m\u001b[0;34m\u001b[0m\u001b[0m\n\u001b[1;32m      5\u001b[0m     \u001b[0mtrain_yy\u001b[0m \u001b[0;34m=\u001b[0m \u001b[0mnp\u001b[0m\u001b[0;34m.\u001b[0m\u001b[0mconcatenate\u001b[0m\u001b[0;34m(\u001b[0m\u001b[0;34m(\u001b[0m\u001b[0mtrain_yy\u001b[0m\u001b[0;34m,\u001b[0m\u001b[0mtrain_y\u001b[0m\u001b[0;34m[\u001b[0m\u001b[0mtrain_y\u001b[0m\u001b[0;34m==\u001b[0m\u001b[0;36m1\u001b[0m\u001b[0;34m]\u001b[0m\u001b[0;34m)\u001b[0m\u001b[0;34m)\u001b[0m\u001b[0;34m\u001b[0m\u001b[0m\n",
      "\u001b[0;31mNameError\u001b[0m: name 'train_X' is not defined"
     ]
    }
   ],
   "source": [
    "train_XX = train_X\n",
    "train_yy = train_y\n",
    "for i in range(11):\n",
    "    train_XX = np.concatenate((train_XX,train_X[train_y==1,:]))\n",
    "    train_yy = np.concatenate((train_yy,train_y[train_y==1]))"
   ]
  },
  {
   "cell_type": "code",
   "execution_count": null,
   "metadata": {},
   "outputs": [],
   "source": [
    "# Define attention mechanism\n",
    "class Attention(nn.Module):\n",
    "    def __init__(self,feature_dim,next_dim,bias=True,**kwargs):\n",
    "        super(Attention,self).__init__(**kwargs)\n",
    "        self.masking = True\n",
    "        self.biasbool = bias\n",
    "        self.feature_dim = feature_dim #The input dim\n",
    "        self.next_dim = next_dim #The output dim--word in a Q\n",
    "        weight = torch.zeros(feature_dim,1) #A vector\n",
    "        nn.init.xavier_uniform_(weight)\n",
    "        self.weight = nn.Parameter(weight)\n",
    "        if bias:\n",
    "            self.bias = nn.Parameter(torch.zeros(next_dim))\n",
    "    \n",
    "    def forward(self, x, mask=None):\n",
    "        feature_dim = self.feature_dim\n",
    "        next_dim = self.next_dim\n",
    "        eij = torch.mm(x.contiguous().view(-1,feature_dim),#(batch*time, feature)\n",
    "                      self.weight).view(-1,next_dim)#(feature,time)\n",
    "        if self.biasbool:\n",
    "            eij = eij+self.bias #linear combination, vector\n",
    "        eij = torch.tanh(eij) #nonlinear units\n",
    "        a = torch.exp(eij) #softmax \n",
    "        \n",
    "        if mask is not None:\n",
    "            a = a * mask\n",
    "        a = a / torch.sum(a, 1, keepdim=True) + 1e-10\n",
    "        # a batch size by time t tensor, weight of different time step of \n",
    "        #print('weight',a.shape)\n",
    "        weighted_input = x * torch.unsqueeze(a, -1)#a batch size by time t by inputsize tensor,\n",
    "        #print('weighted',weighted_input.shape)\n",
    "        #print(torch.sum(weighted_input, 1).shape)\n",
    "        return torch.sum(weighted_input, 1)\n",
    "    # sum to a batch size by input size feature, weighted sum of different t\n",
    "        "
   ]
  },
  {
   "cell_type": "code",
   "execution_count": 3,
   "metadata": {},
   "outputs": [
    {
     "ename": "NameError",
     "evalue": "name 'nn' is not defined",
     "output_type": "error",
     "traceback": [
      "\u001b[0;31m---------------------------------------------------------------------------\u001b[0m",
      "\u001b[0;31mNameError\u001b[0m                                 Traceback (most recent call last)",
      "\u001b[0;32m<ipython-input-3-ab26c5fa5ef7>\u001b[0m in \u001b[0;36m<module>\u001b[0;34m()\u001b[0m\n\u001b[0;32m----> 1\u001b[0;31m \u001b[0;32mclass\u001b[0m \u001b[0mNeuralNet\u001b[0m\u001b[0;34m(\u001b[0m\u001b[0mnn\u001b[0m\u001b[0;34m.\u001b[0m\u001b[0mModule\u001b[0m\u001b[0;34m)\u001b[0m\u001b[0;34m:\u001b[0m\u001b[0;34m\u001b[0m\u001b[0m\n\u001b[0m\u001b[1;32m      2\u001b[0m     \u001b[0;32mdef\u001b[0m \u001b[0m__init__\u001b[0m\u001b[0;34m(\u001b[0m\u001b[0mself\u001b[0m\u001b[0;34m)\u001b[0m\u001b[0;34m:\u001b[0m\u001b[0;34m\u001b[0m\u001b[0m\n\u001b[1;32m      3\u001b[0m         \u001b[0msuper\u001b[0m\u001b[0;34m(\u001b[0m\u001b[0mNeuralNet\u001b[0m\u001b[0;34m,\u001b[0m \u001b[0mself\u001b[0m\u001b[0;34m)\u001b[0m\u001b[0;34m.\u001b[0m\u001b[0m__init__\u001b[0m\u001b[0;34m(\u001b[0m\u001b[0;34m)\u001b[0m\u001b[0;34m\u001b[0m\u001b[0m\n\u001b[1;32m      4\u001b[0m \u001b[0;34m\u001b[0m\u001b[0m\n\u001b[1;32m      5\u001b[0m         \u001b[0mhidden_size\u001b[0m \u001b[0;34m=\u001b[0m \u001b[0;36m70\u001b[0m\u001b[0;34m\u001b[0m\u001b[0m\n",
      "\u001b[0;31mNameError\u001b[0m: name 'nn' is not defined"
     ]
    }
   ],
   "source": [
    "class NeuralNet(nn.Module):\n",
    "    def __init__(self):\n",
    "        super(NeuralNet, self).__init__()\n",
    "        \n",
    "        hidden_size = 70\n",
    "        \n",
    "        self.embedding = nn.Embedding(max_word, embedding_size)\n",
    "        self.embedding.weight = nn.Parameter(torch.tensor(embedding_matrix_1, dtype=torch.float32))\n",
    "        self.embedding.weight.requires_grad = False\n",
    "        #The embedding vectors here are not parameter needing update\n",
    "        self.embedding_dropout = SpatialDropout(0.15)\n",
    "        #Using embedding  and data augmentation\n",
    "        \n",
    "        self.lstm = nn.LSTM(embedding_size, hidden_size,num_layers=2, bidirectional=True, batch_first=True)\n",
    "        #One layer of bidirectional LSTM, output is two times its output dim\n",
    "        self.gru = nn.GRU(hidden_size * 2, hidden_size,num_layers=2, bidirectional=True, batch_first=True)\n",
    "        #One layer of bidirectional Gated recurrent units, output is two times its output dim\n",
    "        self.lstm_attention = Attention(hidden_size * 2, max_q)\n",
    "        # Attention mechanism to encode the information from previous net\n",
    "        self.gru_attention = Attention(hidden_size * 2, max_q)\n",
    "        self.norm1 = nn.BatchNorm1d(max_q)\n",
    "        self.norm2 = nn.BatchNorm1d(max_q)\n",
    "        self.linear = nn.Linear(560, 40)\n",
    "        self.relu = nn.ReLU()\n",
    "        self.dropout = nn.Dropout(0.15)\n",
    "        self.out = nn.Linear(40, 1) # Because we just two labels\n",
    "    \n",
    "    def forward(self, x):\n",
    "        h_embedding = self.embedding(x)\n",
    "        h_embedding = self.embedding_dropout(h_embedding)\n",
    "        #Data augmentation\n",
    "        #print('after embedding',h_embedding.shape)\n",
    "        h_lstm, _ = self.lstm(h_embedding)\n",
    "        #print('lstm',h_lstm.shape)\n",
    "        lstm_n = self.norm1(h_lstm)\n",
    "        h_gru, _ = self.gru(h_lstm)\n",
    "        gru_n = self.norm2(h_gru)\n",
    "        #print('gru',h_gru.shape)\n",
    "        h_lstm_att = self.lstm_attention(lstm_n)\n",
    "        #print('attlstm',h_lstm_att.shape)\n",
    "        h_gru_att = self.gru_attention(gru_n)#Encoder-decoder\n",
    "        #print('attgru',h_gru_att.shape)\n",
    "        # global average pooling\n",
    "        avg_pool = torch.mean(h_gru, 1)\n",
    "        #print('avgpool',avg_pool.shape)\n",
    "        # global max pooling\n",
    "        max_pool, _ = torch.max(h_gru, 1)\n",
    "        #print('maxpool',max_pool.shape) \n",
    "        conc = torch.cat((h_lstm_att#The weighted output of lstm in terms of t, (batch, hiddensize*2)\n",
    "                          , h_gru_att#The weighted output of gru in terms of t (batch, hiddensize*2)\n",
    "                          , avg_pool#The average_pooling and maxpooling of gru in terms of t, (batch, hiddensize*2)\n",
    "                          , max_pool), 1)\n",
    "        # The first two terms detect the importance of t, the last two detect all time information\n",
    "        #print('cat',conc.shape)\n",
    "        conc = self.relu(self.linear(conc)) # Because our label is not time series,\n",
    "                                  #it makes sense to extract suitable local or global infromation\n",
    "        conc = self.dropout(conc)\n",
    "        out = self.out(conc)\n",
    "        out = out\n",
    "        return out\n"
   ]
  },
  {
   "cell_type": "code",
   "execution_count": 44,
   "metadata": {},
   "outputs": [],
   "source": [
    "splits1=list(StratifiedKFold(n_splits=10, shuffle=True,\n",
    "                            random_state=400).split(train_XX,train_yy))\n",
    "testidx = splits1[1][1]\n",
    "train_idx1 = splits1[1][0]\n",
    "train_X1 = train_XX[train_idx1,:]\n",
    "train_y1 = train_yy[train_idx1]\n",
    "splits2=list(StratifiedKFold(n_splits=9, shuffle=True,\n",
    "                            random_state=300).split(train_X1,train_y1))"
   ]
  },
  {
   "cell_type": "code",
   "execution_count": null,
   "metadata": {
    "scrolled": true
   },
   "outputs": [
    {
     "name": "stdout",
     "output_type": "stream",
     "text": [
      "Epoch: 001/020 | Batch 000/429 | Loss: 0.7049\n",
      "Epoch: 001/020 | Batch 050/429 | Loss: 0.5957\n",
      "Epoch: 001/020 | Batch 100/429 | Loss: 0.3827\n",
      "Epoch: 001/020 | Batch 150/429 | Loss: 0.3534\n",
      "Epoch: 001/020 | Batch 200/429 | Loss: 0.3267\n",
      "Epoch: 001/020 | Batch 250/429 | Loss: 0.3160\n",
      "Epoch: 001/020 | Batch 300/429 | Loss: 0.2967\n",
      "Epoch: 001/020 | Batch 350/429 | Loss: 0.3177\n",
      "Epoch: 001/020 | Batch 400/429 | Loss: 0.3193\n",
      "Epoch 1/20 \t train_loss=0.3812 \t val_loss=0.2925\t val_accu=0.8838 \t time=122.03s\n",
      "Epoch: 002/020 | Batch 000/429 | Loss: 0.3113\n"
     ]
    }
   ],
   "source": [
    "seed(100)\n",
    "\n",
    "traidx = splits2[0][0]\n",
    "validx = splits2[0][1]\n",
    "    #Train test idx\n",
    "trainfoldx = torch.tensor(train_X1[traidx], dtype=torch.long).to(device)\n",
    "trainfoldy = torch.tensor(train_y1[traidx], dtype=torch.float32).to(device)\n",
    "x_val_fold = torch.tensor(train_X1[validx], dtype=torch.long).to(device)\n",
    "y_val_fold = torch.tensor(train_y1[validx, np.newaxis], dtype=torch.float32).to(device)\n",
    "    #Our model\n",
    "mbatch_cost = []\n",
    "model = NeuralNet()\n",
    "model.to(device)\n",
    "loss_fn = torch.nn.BCEWithLogitsLoss()\n",
    "optimizer = torch.optim.Adam(model.parameters(),lr=0.0001)\n",
    "    #Dataloader\n",
    "train = torch.utils.data.TensorDataset(trainfoldx,trainfoldy)\n",
    "valid = torch.utils.data.TensorDataset(x_val_fold, y_val_fold)\n",
    "train_loader = torch.utils.data.DataLoader(dataset=train , batch_size=batch_size,shuffle=True)\n",
    "valid_loader = torch.utils.data.DataLoader(dataset=valid, batch_size=batch_size, shuffle=False)\n",
    "    \n",
    "\n",
    "for epoch in range(n_epochs):\n",
    "    start = time.time()\n",
    "    model.train()\n",
    "    grand_loss = 0\n",
    "    for  batch_idx, (x_batch, y_batch) in enumerate(train_loader):\n",
    "        adjust_learning_rate(optimizer,epoch,0.0001,0.5)\n",
    "        y_pred = model(x_batch)\n",
    "        loss = loss_fn(torch.squeeze(y_pred), y_batch)\n",
    "            \n",
    "            #backprop\n",
    "        optimizer.zero_grad()\n",
    "        loss.backward()\n",
    "        optimizer.step()\n",
    "        mbatch_cost.append(loss.item())\n",
    "        grand_loss += loss.item()/len(train_loader)\n",
    "        if not batch_idx % 50:\n",
    "            print ('Epoch: %03d/%03d | Batch %03d/%03d | Loss: %.4f' \n",
    "                   %(epoch+1, n_epochs, batch_idx, len(train_loader), loss.item()))\n",
    "           \n",
    "                     #evaluation          \n",
    "    model.eval()\n",
    "        \n",
    "    valid_pred = np.array(list())\n",
    "       \n",
    "        \n",
    "    val_loss = 0\n",
    "        \n",
    "    for i, (x_batch, y_batch) in enumerate(valid_loader):\n",
    "        y_pred = model(x_batch).detach()\n",
    "        val_loss += loss_fn(y_pred,y_batch).item()/len(valid_loader)\n",
    "        valid_pred = np.append(valid_pred, np.array(torch.sigmoid(y_pred.cpu()))[:, 0])\n",
    "    epoch_time=time.time()-start\n",
    "    valid_acc = ((valid_pred>0.5).astype(int)==np.array(y_val_fold.squeeze().cpu())).sum()/len(y_val_fold)\n",
    "    print('Epoch {}/{} \\t train_loss={:.4f} \\t val_loss={:.4f}\\t val_accu={:.4f} \\t time={:.2f}s'.format(epoch + 1, n_epochs, grand_loss, val_loss,valid_acc, epoch_time))\n",
    "\n",
    "    \n",
    "    \n",
    " \n"
   ]
  },
  {
   "cell_type": "markdown",
   "metadata": {},
   "source": [
    "# Test"
   ]
  },
  {
   "cell_type": "code",
   "execution_count": null,
   "metadata": {},
   "outputs": [],
   "source": [
    "testfoldx = torch.tensor(train_X[testidx], dtype=torch.long).to(device)\n",
    "testfoldy = torch.tensor(train_y[testidx], dtype=torch.float32).to(device)\n",
    "test = torch.utils.data.TensorDataset(testfoldx,testfoldy)\n",
    "test_loader = torch.utils.data.DataLoader(dataset=test , batch_size=batch_size,shuffle=True)"
   ]
  },
  {
   "cell_type": "code",
   "execution_count": null,
   "metadata": {},
   "outputs": [],
   "source": [
    "\n",
    "test_pred = np.array(list())\n",
    "test_loss = 0\n",
    "for i, (x_batch, y_batch) in enumerate(valid_loader):\n",
    "    y_pred = model(x_batch).detach()\n",
    "    test_loss += loss_fn(y_pred,y_batch).item()/len(valid_loader)\n",
    "    test_pred = np.append(test_pred, np.array(torch.sigmoid(y_pred.cpu()))[:, 0])\n",
    "test_acc = ((test_pred>0.5).astype(int)==np.array(testfoldy.squeeze().cpu())).sum()/len(testfoldy)\n"
   ]
  },
  {
   "cell_type": "code",
   "execution_count": null,
   "metadata": {},
   "outputs": [],
   "source": [
    "test_loss"
   ]
  },
  {
   "cell_type": "code",
   "execution_count": null,
   "metadata": {},
   "outputs": [],
   "source": [
    "test_acc"
   ]
  },
  {
   "cell_type": "code",
   "execution_count": null,
   "metadata": {
    "scrolled": true
   },
   "outputs": [],
   "source": [
    "model = NeuralNet()\n",
    "model.to(device)"
   ]
  },
  {
   "cell_type": "code",
   "execution_count": null,
   "metadata": {},
   "outputs": [],
   "source": [
    "X1=train_X[1:2,]"
   ]
  },
  {
   "cell_type": "code",
   "execution_count": null,
   "metadata": {},
   "outputs": [],
   "source": [
    "model(torch.tensor(X1).long().to(device))"
   ]
  },
  {
   "cell_type": "code",
   "execution_count": null,
   "metadata": {
    "scrolled": true
   },
   "outputs": [],
   "source": [
    "plt.plot(mbatch_cost)"
   ]
  },
  {
   "cell_type": "code",
   "execution_count": null,
   "metadata": {
    "scrolled": true
   },
   "outputs": [],
   "source": [
    "plt.plot(mbatch_cost)"
   ]
  }
 ],
 "metadata": {
  "kernelspec": {
   "display_name": "Python 3",
   "language": "python",
   "name": "python3"
  },
  "language_info": {
   "codemirror_mode": {
    "name": "ipython",
    "version": 3
   },
   "file_extension": ".py",
   "mimetype": "text/x-python",
   "name": "python",
   "nbconvert_exporter": "python",
   "pygments_lexer": "ipython3",
   "version": "3.6.5"
  }
 },
 "nbformat": 4,
 "nbformat_minor": 2
}
